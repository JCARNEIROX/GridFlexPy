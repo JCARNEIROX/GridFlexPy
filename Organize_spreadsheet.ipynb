{
 "cells": [
  {
   "cell_type": "code",
   "execution_count": 1,
   "metadata": {},
   "outputs": [],
   "source": [
    "import pandas as pd\n",
    "import numpy as np\n",
    "import os\n",
    "import opendssdirect as dss\n",
    "\n",
    "# Input and output paths    \n",
    "path_xlsx = os.getcwd() + '/data/spreadsheets/'\n",
    "path_dss = os.getcwd() + '/data/dss_files/'\t\n",
    "output_csv = os.getcwd() + '/data/output/csv/'\n",
    "output_img = os.getcwd() + '/data/output/img/'\n",
    "path_generators = os.getcwd() + '/data/generators_profiles/'\n",
    "path_load = os.getcwd() + '/data/loads/'"
   ]
  },
  {
   "cell_type": "code",
   "execution_count": 2,
   "metadata": {},
   "outputs": [],
   "source": [
    "file_dss = path_dss + 'IEEE13Nodeckt.dss'"
   ]
  },
  {
   "cell_type": "code",
   "execution_count": 4,
   "metadata": {},
   "outputs": [
    {
     "name": "stdout",
     "output_type": "stream",
     "text": [
      "['sourcebus', '650_sec', '632_sec', '645_sec', '646_sec', '633_sec', '670_sec', '671_sec', '684_sec', '652_sec', '692_sec', '675_sec', '680_sec', 'bus_650001', 'bus_650002', 'bus_650003', 'bus_650004', 'bus_632001', 'bus_632002', 'bus_632003', 'bus_633001', 'bus_633002', 'bus_633003', 'bus_645001', 'bus_645002', 'bus_645003', 'bus_646001', 'bus_646002', 'bus_646003', 'bus_670001', 'bus_670002', 'bus_670003', 'bus_671001', 'bus_671002', 'bus_671003', 'bus_692001', 'bus_692002', 'bus_692003', 'bus_680001', 'bus_680002', 'bus_680003', 'bus_684001', 'bus_684002', 'bus_684003', '611_sec', 'bus_611001', 'bus_611002', 'bus_611003', 'bus_652001', 'bus_652002', 'bus_652003', 'bus_675001', 'bus_675002', 'bus_675003']\n",
      "Number of buses: 54\n"
     ]
    }
   ],
   "source": [
    "# Open and compile the File Dss\n",
    "dss.Basic.ClearAll()\n",
    "dss.Basic.Start(0)\n",
    "dss.Command(f\"Compile {file_dss}\")\n",
    "\n",
    "# Extract and display all bus names\n",
    "buses = dss.Circuit.AllBusNames()\n",
    "print(buses)\n",
    "print(f\"Number of buses: {len(buses)}\")\n"
   ]
  },
  {
   "cell_type": "code",
   "execution_count": 8,
   "metadata": {},
   "outputs": [
    {
     "name": "stdout",
     "output_type": "stream",
     "text": [
      "['bus_650001', 'bus_650002', 'bus_650003', 'bus_650004', 'bus_632001', 'bus_632002', 'bus_632003', 'bus_633001', 'bus_633002', 'bus_633003', 'bus_645001', 'bus_645002', 'bus_645003', 'bus_646001', 'bus_646002', 'bus_646003', 'bus_670001', 'bus_670002', 'bus_670003', 'bus_671001', 'bus_671002', 'bus_671003', 'bus_692001', 'bus_692002', 'bus_692003', 'bus_680001', 'bus_680002', 'bus_680003', 'bus_684001', 'bus_684002', 'bus_684003', 'bus_611001', 'bus_611002', 'bus_611003', 'bus_652001', 'bus_652002', 'bus_652003', 'bus_675001', 'bus_675002', 'bus_675003']\n",
      "Number of buses: 40\n"
     ]
    }
   ],
   "source": [
    "#Create a list of buses droping bus 'sourcebus','rg60' and '633'\n",
    "buses = [bus for bus in buses if not '_sec' or not 'source' in bus]\n",
    "nbuses = len(buses)\n",
    "print(buses)\n",
    "print(f\"Number of buses: {nbuses}\")"
   ]
  },
  {
   "cell_type": "code",
   "execution_count": 10,
   "metadata": {},
   "outputs": [
    {
     "name": "stdout",
     "output_type": "stream",
     "text": [
      "Bus_node\n",
      "650001    1\n",
      "632001    1\n",
      "675002    1\n",
      "684002    1\n",
      "611002    1\n",
      "652002    1\n",
      "650003    1\n",
      "632003    1\n",
      "670003    1\n",
      "671003    1\n",
      "680003    1\n",
      "633003    1\n",
      "645003    1\n",
      "646003    1\n",
      "692003    1\n",
      "675003    1\n",
      "684003    1\n",
      "611003    1\n",
      "652003    1\n",
      "692002    1\n",
      "646002    1\n",
      "645002    1\n",
      "675001    1\n",
      "670001    1\n",
      "671001    1\n",
      "680001    1\n",
      "633001    1\n",
      "645001    1\n",
      "646001    1\n",
      "692001    1\n",
      "684001    1\n",
      "633002    1\n",
      "611001    1\n",
      "652001    1\n",
      "650002    1\n",
      "632002    1\n",
      "670002    1\n",
      "671002    1\n",
      "680002    1\n",
      "650004    1\n",
      "Name: count, dtype: int64\n"
     ]
    }
   ],
   "source": [
    "file_sheet = path_xlsx + 'sheet_IEEE13Node.xlsx'\n",
    "df = pd.read_excel(file_sheet, sheet_name='Load', header=0)\n",
    "\n",
    "# Display how many loads are per Bus_node\n",
    "print(df['Bus_node'].value_counts())\n"
   ]
  }
 ],
 "metadata": {
  "kernelspec": {
   "display_name": "goes",
   "language": "python",
   "name": "python3"
  },
  "language_info": {
   "codemirror_mode": {
    "name": "ipython",
    "version": 3
   },
   "file_extension": ".py",
   "mimetype": "text/x-python",
   "name": "python",
   "nbconvert_exporter": "python",
   "pygments_lexer": "ipython3",
   "version": "3.12.5"
  }
 },
 "nbformat": 4,
 "nbformat_minor": 2
}
