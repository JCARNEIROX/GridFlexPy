{
 "cells": [
  {
   "cell_type": "code",
   "execution_count": 1,
   "metadata": {},
   "outputs": [],
   "source": [
    "import pandas as pd\n",
    "import numpy as np\n",
    "import os\n",
    "import opendssdirect as dss\n",
    "\n",
    "# Input and output paths    \n",
    "path_xlsx = os.getcwd() + '/data/spreadsheets/'\n",
    "path_dss = os.getcwd() + '/data/dss_files/'\t\n",
    "output_csv = os.getcwd() + '/data/output/csv/'\n",
    "output_img = os.getcwd() + '/data/output/img/'\n",
    "path_generators = os.getcwd() + '/data/generators_profiles/'\n",
    "path_load = os.getcwd() + '/data/loads/'"
   ]
  },
  {
   "cell_type": "code",
   "execution_count": 2,
   "metadata": {},
   "outputs": [],
   "source": [
    "file_dss = path_dss + 'IEEE13Nodeckt.dss'"
   ]
  },
  {
   "cell_type": "code",
   "execution_count": 3,
   "metadata": {},
   "outputs": [
    {
     "name": "stdout",
     "output_type": "stream",
     "text": [
      "['sourcebus', '650', '632', '670', '671', '680', '633', '645', '646', '692', '675', '684', '611', '652']\n",
      "Number of buses: 14\n"
     ]
    }
   ],
   "source": [
    "# Open and compile the File Dss\n",
    "dss.Basic.ClearAll()\n",
    "dss.Basic.Start(0)\n",
    "dss.Command(f\"Compile {file_dss}\")\n",
    "\n",
    "# Extract and display all bus names\n",
    "buses = dss.Circuit.AllBusNames()\n",
    "print(buses)\n",
    "print(f\"Number of buses: {len(buses)}\")\n"
   ]
  },
  {
   "cell_type": "code",
   "execution_count": 4,
   "metadata": {},
   "outputs": [
    {
     "name": "stdout",
     "output_type": "stream",
     "text": [
      "[650, 632, 670, 671, 680, 633, 645, 646, 692, 675, 684, 611, 652]\n",
      "Number of buses: 13\n"
     ]
    }
   ],
   "source": [
    "#Create a list of buses droping bus 'sourcebus','rg60' and '633'\n",
    "buses = [int(bus) for bus in buses if bus not in ['sourcebus',]]\n",
    "nbuses = len(buses)\n",
    "print(buses)\n",
    "print(f\"Number of buses: {nbuses}\")"
   ]
  },
  {
   "cell_type": "code",
   "execution_count": 5,
   "metadata": {},
   "outputs": [
    {
     "name": "stdout",
     "output_type": "stream",
     "text": [
      "['MAC003982.csv', 'MAC003983.csv', 'MAC003996.csv', 'MAC003997.csv', 'MAC003998.csv', 'MAC004000.csv', 'MAC004001.csv', 'MAC004002.csv', 'MAC004003.csv', 'MAC004004.csv', 'MAC004005.csv', 'MAC004006.csv', 'MAC004007.csv', 'MAC004008.csv', 'MAC004009.csv', 'MAC004010.csv', 'MAC004011.csv', 'MAC004012.csv', 'MAC004013.csv', 'MAC004015.csv', 'MAC004016.csv', 'MAC004017.csv', 'MAC004019.csv', 'MAC004020.csv', 'MAC004021.csv', 'MAC004022.csv', 'MAC004023.csv', 'MAC004024.csv', 'MAC004025.csv', 'MAC004026.csv', 'MAC004027.csv', 'MAC004028.csv', 'MAC004029.csv', 'MAC004030.csv', 'MAC004032.csv', 'MAC004035.csv', 'MAC004036.csv', 'MAC004037.csv', 'MAC004038.csv', 'MAC004039.csv']\n",
      "Number of loads: 40\n"
     ]
    }
   ],
   "source": [
    "# List all loads availables in directory\n",
    "loads = os.listdir(path_load)\n",
    "loads =[load for load in loads if load not in ['pub_ilum.csv']]\n",
    "print(loads)\n",
    "nloads = len(loads)\n",
    "print(f\"Number of loads: {nloads}\")\n"
   ]
  }
 ],
 "metadata": {
  "kernelspec": {
   "display_name": "goes",
   "language": "python",
   "name": "python3"
  },
  "language_info": {
   "codemirror_mode": {
    "name": "ipython",
    "version": 3
   },
   "file_extension": ".py",
   "mimetype": "text/x-python",
   "name": "python",
   "nbconvert_exporter": "python",
   "pygments_lexer": "ipython3",
   "version": "3.12.5"
  }
 },
 "nbformat": 4,
 "nbformat_minor": 2
}
