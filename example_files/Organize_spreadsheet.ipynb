{
 "cells": [
  {
   "cell_type": "code",
   "execution_count": 1,
   "metadata": {},
   "outputs": [],
   "source": [
    "import pandas as pd\n",
    "import numpy as np\n",
    "import os\n",
    "import opendssdirect as dss\n",
    "\n",
    "# Input and output paths    \n",
    "path_xlsx = os.getcwd() + '/data/spreadsheets/'\n",
    "path_dss = os.getcwd() + '/data/dss_files/'\t\n",
    "output_csv = os.getcwd() + '/data/output/csv/'\n",
    "output_img = os.getcwd() + '/data/output/img/'\n",
    "path_generators = os.getcwd() + '/data/generators_profiles/'\n",
    "path_load = os.getcwd() + '/data/loads/'"
   ]
  },
  {
   "cell_type": "code",
   "execution_count": 2,
   "metadata": {},
   "outputs": [],
   "source": [
    "file_dss = path_dss + 'CondominioModified.dss'"
   ]
  },
  {
   "cell_type": "code",
   "execution_count": 3,
   "metadata": {},
   "outputs": [
    {
     "name": "stdout",
     "output_type": "stream",
     "text": [
      "['vsource', 'bus_001', 'bus_002', 'bus_003', 'bus_004', 'bus_005', 'bus_006', 'bus_007', 'bus_008', 'bus_009', 'bus_010', 'bus_011', 'bus_012', 'bus_013', 'bus_014', 'busload_001', 'busload_002', 'busload_003', 'busload_004', 'busload_005', 'busload_006', 'busload_007', 'busload_008', 'busload_009', 'busload_010', 'busload_011', 'busload_012', 'busload_013', 'busload_014', 'busload_015', 'busload_016', 'busload_017', 'busload_018', 'busload_019', 'busload_020', 'busload_021', 'busload_022', 'busload_023', 'busload_024', 'busload_025', 'busload_026', 'busload_027', 'busload_028', 'busload_029', 'busload_030', 'busload_031']\n",
      "Number of buses: 46\n"
     ]
    }
   ],
   "source": [
    "# Open and compile the File Dss\n",
    "dss.Basic.ClearAll()\n",
    "dss.Basic.Start(0)\n",
    "dss.Command(f\"Compile {file_dss}\")\n",
    "\n",
    "# Extract and display all bus names\n",
    "buses = dss.Circuit.AllBusNames()\n",
    "print(buses)\n",
    "print(f\"Number of buses: {len(buses)}\")\n"
   ]
  },
  {
   "cell_type": "code",
   "execution_count": 4,
   "metadata": {},
   "outputs": [
    {
     "name": "stdout",
     "output_type": "stream",
     "text": [
      "['busload_001', 'busload_002', 'busload_003', 'busload_004', 'busload_005', 'busload_006', 'busload_007', 'busload_008', 'busload_009', 'busload_010', 'busload_011', 'busload_012', 'busload_013', 'busload_014', 'busload_015', 'busload_016', 'busload_017', 'busload_018', 'busload_019', 'busload_020', 'busload_021', 'busload_022', 'busload_023', 'busload_024', 'busload_025', 'busload_026', 'busload_027', 'busload_028', 'busload_029', 'busload_030', 'busload_031']\n",
      "Number of buses: 31\n"
     ]
    }
   ],
   "source": [
    "# Filter bus that have '__pd_bt_' or '__pd_btg_' in the name\t\n",
    "buses_load = [bus for bus in buses if 'busload' in bus]\n",
    "print(buses_load)\n",
    "print(f\"Number of buses: {len(buses_load)}\")"
   ]
  },
  {
   "cell_type": "code",
   "execution_count": 5,
   "metadata": {},
   "outputs": [
    {
     "name": "stdout",
     "output_type": "stream",
     "text": [
      "[]\n",
      "Number of loads: 0\n"
     ]
    }
   ],
   "source": [
    "loads_dss = dss.Loads.AllNames()\n",
    "loads_dss = [load for load in loads_dss if not '_ip_' in load]\n",
    "loads_dss = [load for load in loads_dss if not '_pv_' in load]\n",
    "print(loads_dss)\n",
    "print(f\"Number of loads: {len(loads_dss)}\")"
   ]
  },
  {
   "cell_type": "code",
   "execution_count": 6,
   "metadata": {},
   "outputs": [
    {
     "name": "stdout",
     "output_type": "stream",
     "text": [
      "Bus: busload_001 - Loads: []\n",
      "Bus: busload_002 - Loads: []\n",
      "Bus: busload_003 - Loads: []\n",
      "Bus: busload_004 - Loads: []\n",
      "Bus: busload_005 - Loads: []\n",
      "Bus: busload_006 - Loads: []\n",
      "Bus: busload_007 - Loads: []\n",
      "Bus: busload_008 - Loads: []\n",
      "Bus: busload_009 - Loads: []\n",
      "Bus: busload_010 - Loads: []\n",
      "Bus: busload_011 - Loads: []\n",
      "Bus: busload_012 - Loads: []\n",
      "Bus: busload_013 - Loads: []\n",
      "Bus: busload_014 - Loads: []\n",
      "Bus: busload_015 - Loads: []\n",
      "Bus: busload_016 - Loads: []\n",
      "Bus: busload_017 - Loads: []\n",
      "Bus: busload_018 - Loads: []\n",
      "Bus: busload_019 - Loads: []\n",
      "Bus: busload_020 - Loads: []\n",
      "Bus: busload_021 - Loads: []\n",
      "Bus: busload_022 - Loads: []\n",
      "Bus: busload_023 - Loads: []\n",
      "Bus: busload_024 - Loads: []\n",
      "Bus: busload_025 - Loads: []\n",
      "Bus: busload_026 - Loads: []\n",
      "Bus: busload_027 - Loads: []\n",
      "Bus: busload_028 - Loads: []\n",
      "Bus: busload_029 - Loads: []\n",
      "Bus: busload_030 - Loads: []\n",
      "Bus: busload_031 - Loads: []\n"
     ]
    }
   ],
   "source": [
    "# print loads connected to the each bus\n",
    "for bus in buses_load:\n",
    "    dss.Circuit.SetActiveBus(bus)\n",
    "    loads = dss.Bus.LoadList()\n",
    "    print(f\"Bus: {bus} - Loads: {loads}\")"
   ]
  },
  {
   "cell_type": "markdown",
   "metadata": {},
   "source": [
    "# Loads disponíveis para simulação"
   ]
  },
  {
   "cell_type": "code",
   "execution_count": 7,
   "metadata": {},
   "outputs": [
    {
     "name": "stdout",
     "output_type": "stream",
     "text": [
      "['MAC003982.csv', 'MAC003983.csv', 'MAC003996.csv', 'MAC003997.csv', 'MAC003998.csv', 'MAC004000.csv', 'MAC004001.csv', 'MAC004002.csv', 'MAC004003.csv', 'MAC004004.csv', 'MAC004005.csv', 'MAC004006.csv', 'MAC004007.csv', 'MAC004008.csv', 'MAC004009.csv', 'MAC004010.csv', 'MAC004011.csv', 'MAC004012.csv', 'MAC004013.csv', 'MAC004015.csv', 'MAC004016.csv', 'MAC004017.csv', 'MAC004019.csv', 'MAC004020.csv', 'MAC004021.csv', 'MAC004022.csv', 'MAC004023.csv', 'MAC004024.csv', 'MAC004025.csv', 'MAC004026.csv', 'MAC004027.csv', 'MAC004028.csv', 'MAC004029.csv', 'MAC004030.csv', 'MAC004032.csv', 'MAC004035.csv', 'MAC004036.csv', 'MAC004037.csv', 'MAC004038.csv', 'MAC004039.csv']\n",
      "Number of loads: 40\n"
     ]
    }
   ],
   "source": [
    "# Print total number loads in the system\n",
    "loads = os.listdir(path_load)\n",
    "loads = [load for load in loads if not 'pub_ilum' in load]\n",
    "print(loads)\n",
    "print(f\"Number of loads: {len(loads)}\")\n"
   ]
  },
  {
   "cell_type": "markdown",
   "metadata": {},
   "source": [
    "# Analisando o arquivo OpenDSS Modificado"
   ]
  },
  {
   "cell_type": "code",
   "execution_count": 9,
   "metadata": {},
   "outputs": [
    {
     "ename": "ModuleNotFoundError",
     "evalue": "No module named 'read_spreadsheet'",
     "output_type": "error",
     "traceback": [
      "\u001b[1;31m---------------------------------------------------------------------------\u001b[0m",
      "\u001b[1;31mModuleNotFoundError\u001b[0m                       Traceback (most recent call last)",
      "Cell \u001b[1;32mIn[9], line 5\u001b[0m\n\u001b[0;32m      3\u001b[0m \u001b[38;5;28;01mimport\u001b[39;00m \u001b[38;5;21;01mpandas\u001b[39;00m \u001b[38;5;28;01mas\u001b[39;00m \u001b[38;5;21;01mpd\u001b[39;00m\n\u001b[0;32m      4\u001b[0m \u001b[38;5;28;01mimport\u001b[39;00m \u001b[38;5;21;01mos\u001b[39;00m\n\u001b[1;32m----> 5\u001b[0m \u001b[38;5;28;01mfrom\u001b[39;00m \u001b[38;5;21;01mread_spreadsheet\u001b[39;00m \u001b[38;5;28;01mimport\u001b[39;00m read_file_xlsx\n\u001b[0;32m      6\u001b[0m \u001b[38;5;28;01mfrom\u001b[39;00m \u001b[38;5;21;01mmodules\u001b[39;00m\u001b[38;5;21;01m.\u001b[39;00m\u001b[38;5;21;01mget_general_informations\u001b[39;00m \u001b[38;5;28;01mimport\u001b[39;00m get_informations\n\u001b[0;32m      7\u001b[0m \u001b[38;5;28;01mfrom\u001b[39;00m \u001b[38;5;21;01mmodules\u001b[39;00m\u001b[38;5;21;01m.\u001b[39;00m\u001b[38;5;21;01mbess\u001b[39;00m \u001b[38;5;28;01mimport\u001b[39;00m construct_bess,bess_operation,simple_bess,simple_bess_load\n",
      "\u001b[1;31mModuleNotFoundError\u001b[0m: No module named 'read_spreadsheet'"
     ]
    }
   ],
   "source": [
    "import warnings\n",
    "import opendssdirect as dss\n",
    "import pandas as pd\n",
    "import os\n",
    "from modules.read_spreadsheet import read_file_xlsx\n",
    "from modules.get_general_informations import get_informations\n",
    "from modules.bess import construct_bess,bess_operation,simple_bess,simple_bess_load\n",
    "from modules.generator import construct_generators\n",
    "from modules.load import construct_loads,construct_lights\n",
    "from modules.powerflow import power_flow"
   ]
  },
  {
   "cell_type": "code",
   "execution_count": null,
   "metadata": {},
   "outputs": [],
   "source": [
    "\n",
    "file_dss = path_dss + 'CondominioModified.dss'"
   ]
  }
 ],
 "metadata": {
  "kernelspec": {
   "display_name": "goes",
   "language": "python",
   "name": "python3"
  },
  "language_info": {
   "codemirror_mode": {
    "name": "ipython",
    "version": 3
   },
   "file_extension": ".py",
   "mimetype": "text/x-python",
   "name": "python",
   "nbconvert_exporter": "python",
   "pygments_lexer": "ipython3",
   "version": "3.12.5"
  }
 },
 "nbformat": 4,
 "nbformat_minor": 2
}
