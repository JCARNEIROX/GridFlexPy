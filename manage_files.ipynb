{
 "cells": [
  {
   "cell_type": "code",
   "execution_count": 1,
   "metadata": {},
   "outputs": [],
   "source": [
    "import pandas as pd\n",
    "import numpy as np\n",
    "import os\n",
    "import opendssdirect as dss\n",
    "\n",
    "# Input and output paths    \n",
    "path_xlsx = os.getcwd() + '/data/spreadsheets/'\n",
    "path_dss = os.getcwd() + '/data/dss_files/'\t\n",
    "output_csv = os.getcwd() + '/data/output/csv/'\n",
    "output_img = os.getcwd() + '/data/output/img/'\n",
    "path_generators = os.getcwd() + '/data/generators_profiles/'\n",
    "path_load = os.getcwd() + '/data/loads/'"
   ]
  },
  {
   "cell_type": "code",
   "execution_count": 2,
   "metadata": {},
   "outputs": [
    {
     "name": "stdout",
     "output_type": "stream",
     "text": [
      "Date min:  2019-05-04 05:30:00\n",
      "Date max:  2023-04-30 20:00:00\n"
     ]
    }
   ],
   "source": [
    "gen_file = path_generators + 'df_unicamp_15m.csv'\n",
    "\n",
    "# Carregar os dados do dataframe\n",
    "df = pd.read_csv(gen_file)\n",
    "df['datetime'] = pd.to_datetime(df['datetime'])\n",
    "\n",
    "# Extract the date min and max\n",
    "date_min = df['datetime'].min()\n",
    "date_max = df['datetime'].max()\n",
    "print('Date min: ', date_min)\n",
    "print('Date max: ', date_max)\n",
    "\n"
   ]
  },
  {
   "cell_type": "code",
   "execution_count": 4,
   "metadata": {},
   "outputs": [],
   "source": [
    "# Open the new file\n",
    "df_new = pd.read_csv(path_generators + 'df_unicamp_15m_data.csv')\n",
    "\n",
    "# Divide column Ppower per 1000\n",
    "df_new['Ppower'] = df_new['Ppower'] / 1000\n",
    "\n",
    "# Normalize the column Ppower\n",
    "df_new['Ppower'] = df_new['Ppower'] / df_new['Ppower'].max()\n",
    "\n",
    "# Save the new file\n",
    "df_new.to_csv(path_generators + 'df_unicamp_15m_data.csv', index=False)\n",
    "\n"
   ]
  }
 ],
 "metadata": {
  "kernelspec": {
   "display_name": "goes",
   "language": "python",
   "name": "python3"
  },
  "language_info": {
   "codemirror_mode": {
    "name": "ipython",
    "version": 3
   },
   "file_extension": ".py",
   "mimetype": "text/x-python",
   "name": "python",
   "nbconvert_exporter": "python",
   "pygments_lexer": "ipython3",
   "version": "3.12.5"
  }
 },
 "nbformat": 4,
 "nbformat_minor": 2
}
