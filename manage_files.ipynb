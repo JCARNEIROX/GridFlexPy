{
 "cells": [
  {
   "cell_type": "code",
   "execution_count": 1,
   "metadata": {},
   "outputs": [],
   "source": [
    "import pandas as pd\n",
    "import numpy as np\n",
    "import os\n",
    "import opendssdirect as dss\n",
    "\n",
    "from modules.read_spreadsheet import read_file_xlsx\n",
    "from modules.get_general_informations import get_informations\n",
    "# Input and output paths    \n",
    "path_xlsx = os.getcwd() + '/data/spreadsheets/'\n",
    "path_dss = os.getcwd() + '/data/dss_files/'\t\n",
    "output_csv = os.getcwd() + '/data/output/csv/'\n",
    "output_img = os.getcwd() + '/data/output/img/'\n",
    "path_generators = os.getcwd() + '/data/generators_profiles/'\n",
    "path_load = os.getcwd() + '/data/loads/'"
   ]
  },
  {
   "cell_type": "code",
   "execution_count": 2,
   "metadata": {},
   "outputs": [
    {
     "name": "stdout",
     "output_type": "stream",
     "text": [
      "Start date:  2012-07-07 06:00:00\n",
      "End date:  2012-07-08 06:30:00\n",
      "Timestep:  30\n"
     ]
    }
   ],
   "source": [
    "file_xlsx = 'sheet_IEEE13Node.xlsx'\n",
    "\n",
    "file_contents = read_file_xlsx(path_xlsx + file_xlsx)\n",
    "\n",
    "general_informations = get_informations(file_contents['General'])\n",
    "start_date = general_informations.start_date\n",
    "end_date = general_informations.end_date\n",
    "timestep = general_informations.timestep\n",
    "print('Start date: ', start_date)\n",
    "print('End date: ', end_date)\n",
    "print('Timestep: ', timestep)"
   ]
  },
  {
   "cell_type": "code",
   "execution_count": 3,
   "metadata": {},
   "outputs": [
    {
     "name": "stdout",
     "output_type": "stream",
     "text": [
      "Loads:  ['MAC003982.csv', 'MAC003983.csv', 'MAC003996.csv', 'MAC003997.csv', 'MAC003998.csv', 'MAC004000.csv', 'MAC004001.csv', 'MAC004002.csv', 'MAC004003.csv', 'MAC004004.csv', 'MAC004005.csv', 'MAC004006.csv', 'MAC004007.csv', 'MAC004008.csv', 'MAC004009.csv', 'MAC004010.csv', 'MAC004011.csv', 'MAC004012.csv', 'MAC004013.csv', 'MAC004015.csv', 'MAC004016.csv', 'MAC004017.csv', 'MAC004019.csv', 'MAC004020.csv', 'MAC004021.csv', 'MAC004022.csv', 'MAC004023.csv', 'MAC004024.csv', 'MAC004025.csv', 'MAC004026.csv', 'MAC004027.csv', 'MAC004028.csv', 'MAC004029.csv', 'MAC004030.csv', 'MAC004032.csv', 'MAC004035.csv', 'MAC004036.csv', 'MAC004037.csv', 'MAC004038.csv', 'MAC004039.csv', 'pub_ilum.csv']\n"
     ]
    },
    {
     "data": {
      "text/html": [
       "<div>\n",
       "<style scoped>\n",
       "    .dataframe tbody tr th:only-of-type {\n",
       "        vertical-align: middle;\n",
       "    }\n",
       "\n",
       "    .dataframe tbody tr th {\n",
       "        vertical-align: top;\n",
       "    }\n",
       "\n",
       "    .dataframe thead th {\n",
       "        text-align: right;\n",
       "    }\n",
       "</style>\n",
       "<table border=\"1\" class=\"dataframe\">\n",
       "  <thead>\n",
       "    <tr style=\"text-align: right;\">\n",
       "      <th></th>\n",
       "      <th>datetime</th>\n",
       "      <th>Ppower</th>\n",
       "    </tr>\n",
       "  </thead>\n",
       "  <tbody>\n",
       "  </tbody>\n",
       "</table>\n",
       "</div>"
      ],
      "text/plain": [
       "Empty DataFrame\n",
       "Columns: [datetime, Ppower]\n",
       "Index: []"
      ]
     },
     "metadata": {},
     "output_type": "display_data"
    }
   ],
   "source": [
    "loads = os.listdir(path_load)\n",
    "print('Loads: ', loads)\n",
    "\n",
    "# Create a empty dataframe \n",
    "columns = ['datetime','Ppower']\n",
    "df = pd.DataFrame(columns=columns)\n",
    "display(df)"
   ]
  },
  {
   "cell_type": "code",
   "execution_count": 6,
   "metadata": {},
   "outputs": [
    {
     "name": "stderr",
     "output_type": "stream",
     "text": [
      "C:\\Users\\joao9\\AppData\\Local\\Temp\\ipykernel_16596\\2095089568.py:1: FutureWarning: 'T' is deprecated and will be removed in a future version, please use 'min' instead.\n",
      "  timerange = pd.date_range(start_date, end_date, freq=str(timestep)+'T')\n"
     ]
    },
    {
     "data": {
      "text/html": [
       "<div>\n",
       "<style scoped>\n",
       "    .dataframe tbody tr th:only-of-type {\n",
       "        vertical-align: middle;\n",
       "    }\n",
       "\n",
       "    .dataframe tbody tr th {\n",
       "        vertical-align: top;\n",
       "    }\n",
       "\n",
       "    .dataframe thead th {\n",
       "        text-align: right;\n",
       "    }\n",
       "</style>\n",
       "<table border=\"1\" class=\"dataframe\">\n",
       "  <thead>\n",
       "    <tr style=\"text-align: right;\">\n",
       "      <th></th>\n",
       "      <th>datetime</th>\n",
       "      <th>Ppower</th>\n",
       "    </tr>\n",
       "  </thead>\n",
       "  <tbody>\n",
       "    <tr>\n",
       "      <th>0</th>\n",
       "      <td>2012-07-07 06:00:00</td>\n",
       "      <td>2.166381</td>\n",
       "    </tr>\n",
       "    <tr>\n",
       "      <th>1</th>\n",
       "      <td>2012-07-07 06:30:00</td>\n",
       "      <td>2.069478</td>\n",
       "    </tr>\n",
       "    <tr>\n",
       "      <th>2</th>\n",
       "      <td>2012-07-07 07:00:00</td>\n",
       "      <td>2.585886</td>\n",
       "    </tr>\n",
       "    <tr>\n",
       "      <th>3</th>\n",
       "      <td>2012-07-07 07:30:00</td>\n",
       "      <td>3.206008</td>\n",
       "    </tr>\n",
       "    <tr>\n",
       "      <th>4</th>\n",
       "      <td>2012-07-07 08:00:00</td>\n",
       "      <td>3.204187</td>\n",
       "    </tr>\n",
       "    <tr>\n",
       "      <th>...</th>\n",
       "      <td>...</td>\n",
       "      <td>...</td>\n",
       "    </tr>\n",
       "    <tr>\n",
       "      <th>145</th>\n",
       "      <td>2012-07-08 04:30:00</td>\n",
       "      <td>1.502849</td>\n",
       "    </tr>\n",
       "    <tr>\n",
       "      <th>146</th>\n",
       "      <td>2012-07-08 05:00:00</td>\n",
       "      <td>1.609289</td>\n",
       "    </tr>\n",
       "    <tr>\n",
       "      <th>147</th>\n",
       "      <td>2012-07-08 05:30:00</td>\n",
       "      <td>1.792147</td>\n",
       "    </tr>\n",
       "    <tr>\n",
       "      <th>148</th>\n",
       "      <td>2012-07-08 06:00:00</td>\n",
       "      <td>2.070670</td>\n",
       "    </tr>\n",
       "    <tr>\n",
       "      <th>149</th>\n",
       "      <td>2012-07-08 06:30:00</td>\n",
       "      <td>3.247069</td>\n",
       "    </tr>\n",
       "  </tbody>\n",
       "</table>\n",
       "<p>150 rows × 2 columns</p>\n",
       "</div>"
      ],
      "text/plain": [
       "               datetime    Ppower\n",
       "0   2012-07-07 06:00:00  2.166381\n",
       "1   2012-07-07 06:30:00  2.069478\n",
       "2   2012-07-07 07:00:00  2.585886\n",
       "3   2012-07-07 07:30:00  3.206008\n",
       "4   2012-07-07 08:00:00  3.204187\n",
       "..                  ...       ...\n",
       "145 2012-07-08 04:30:00  1.502849\n",
       "146 2012-07-08 05:00:00  1.609289\n",
       "147 2012-07-08 05:30:00  1.792147\n",
       "148 2012-07-08 06:00:00  2.070670\n",
       "149 2012-07-08 06:30:00  3.247069\n",
       "\n",
       "[150 rows x 2 columns]"
      ]
     },
     "metadata": {},
     "output_type": "display_data"
    }
   ],
   "source": [
    "timerange = pd.date_range(start_date, end_date, freq=str(timestep)+'T')\n",
    "\n",
    "# For each time in timerange summ the power of all loads and store in a dataframe\n",
    "for time in timerange:\n",
    "    Ppower = 0\n",
    "    for load in loads:\n",
    "        df_load = pd.read_csv(path_load + load)\n",
    "        df_load['datetime'] = pd.to_datetime(df_load['datetime'])\n",
    "        Ppower += df_load.loc[df_load['datetime'] == time]['Ppower'].values[0]\n",
    "        \n",
    "    new_line = pd.DataFrame([[time, Ppower]], columns=columns)\n",
    "    df = pd.concat([df, new_line], ignore_index=True)\n",
    "display(df)\n",
    "        "
   ]
  }
 ],
 "metadata": {
  "kernelspec": {
   "display_name": "goes",
   "language": "python",
   "name": "python3"
  },
  "language_info": {
   "codemirror_mode": {
    "name": "ipython",
    "version": 3
   },
   "file_extension": ".py",
   "mimetype": "text/x-python",
   "name": "python",
   "nbconvert_exporter": "python",
   "pygments_lexer": "ipython3",
   "version": "3.12.5"
  }
 },
 "nbformat": 4,
 "nbformat_minor": 2
}
