{
 "cells": [
  {
   "cell_type": "code",
   "execution_count": 1,
   "metadata": {},
   "outputs": [],
   "source": [
    "import pandas as pd\n",
    "import numpy as np\n",
    "import os\n",
    "\n",
    "output_csv = os.getcwd() + '/data/output/csv/'"
   ]
  },
  {
   "cell_type": "code",
   "execution_count": 2,
   "metadata": {},
   "outputs": [],
   "source": [
    "load = pd.read_csv(output_csv + 'load_Simple.csv')\n",
    "generation = pd.read_csv(output_csv + 'generation_Simple.csv')"
   ]
  },
  {
   "cell_type": "code",
   "execution_count": 3,
   "metadata": {},
   "outputs": [],
   "source": [
    "# Subtract colum 'P(kW)' from load and generation and create a new dataframe com this values\n",
    "diff = pd.DataFrame()\n",
    "diff['Timestep'] = load['Timestep']\n",
    "diff['P(kW)'] = load['P(kW)']- generation['P(kW)'] \n",
    "\n",
    "# Save the new dataframe in a csv file\n",
    "diff.to_csv(output_csv + 'demand_forec.csv', index=False)"
   ]
  }
 ],
 "metadata": {
  "kernelspec": {
   "display_name": "goes",
   "language": "python",
   "name": "python3"
  },
  "language_info": {
   "codemirror_mode": {
    "name": "ipython",
    "version": 3
   },
   "file_extension": ".py",
   "mimetype": "text/x-python",
   "name": "python",
   "nbconvert_exporter": "python",
   "pygments_lexer": "ipython3",
   "version": "3.12.5"
  }
 },
 "nbformat": 4,
 "nbformat_minor": 2
}
