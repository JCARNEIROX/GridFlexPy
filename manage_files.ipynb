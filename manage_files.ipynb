{
 "cells": [
  {
   "cell_type": "code",
   "execution_count": 2,
   "metadata": {},
   "outputs": [],
   "source": [
    "import pandas as pd\n",
    "import numpy as np\n",
    "import os\n",
    "import opendssdirect as dss\n",
    "\n",
    "# Input and output paths    \n",
    "path_xlsx = os.getcwd() + '/data/spreadsheets/'\n",
    "path_dss = os.getcwd() + '/data/dss_files/'\t\n",
    "output_csv = os.getcwd() + '/data/output/csv/'\n",
    "output_img = os.getcwd() + '/data/output/img/'\n",
    "path_generators = os.getcwd() + '/data/generators_profiles/'\n",
    "path_load = os.getcwd() + '/data/loads/'"
   ]
  },
  {
   "cell_type": "code",
   "execution_count": null,
   "metadata": {},
   "outputs": [],
   "source": [
    "# Listar todos os arquivos no diretório\n",
    "files = os.listdir(path_load)\n",
    "\n",
    "# Garantir que o índice completo será calculado com base nos dados reais\n",
    "file_teste = pd.read_csv(path_load + files[0])\n",
    "file_teste['datetime'] = pd.to_datetime(file_teste['datetime'])\n",
    "datemin = file_teste['datetime'].min()\n",
    "datemax = file_teste['datetime'].max()\n",
    "\n",
    "# Criar o índice completo\n",
    "full_index = pd.date_range(start=datemin, end=datemax, freq='30T')\n",
    "\n",
    "for file in files:\n",
    "    print('Processing file: ' + file)\n",
    "    \n",
    "    # Ler o arquivo e garantir que datetime seja único\n",
    "    df = pd.read_csv(path_load + file)\n",
    "    df['datetime'] = pd.to_datetime(df['datetime'])\n",
    "    \n",
    "    # Remover duplicatas e manter o último valor para cada duplicata\n",
    "    df = df.drop_duplicates(subset='datetime', keep='last')\n",
    "    \n",
    "    # Configurar datetime como índice\n",
    "    df.set_index('datetime', inplace=True)\n",
    "    \n",
    "    # Reindexar e interpolar valores faltantes\n",
    "    df = df.reindex(full_index)\n",
    "    df['Ppower'] = df['Ppower'].interpolate(method='linear')\n",
    "    \n",
    "    # Resetar índice e renomear colunas\n",
    "    df.reset_index(inplace=True)\n",
    "    df.rename(columns={'index': 'datetime'}, inplace=True)\n",
    "    \n",
    "    # Salvar o dataframe corrigido no mesmo caminho\n",
    "    df.to_csv(path_load + file, index=False)\n",
    "\n",
    "    \n"
   ]
  },
  {
   "cell_type": "code",
   "execution_count": 13,
   "metadata": {},
   "outputs": [
    {
     "name": "stdout",
     "output_type": "stream",
     "text": [
      "File: MAC003982.csv has 28873 rows\n",
      "File: MAC003983.csv has 28873 rows\n",
      "File: MAC003996.csv has 28873 rows\n",
      "File: MAC003997.csv has 28873 rows\n",
      "File: MAC003998.csv has 28873 rows\n",
      "File: MAC004000.csv has 28873 rows\n",
      "File: MAC004001.csv has 28873 rows\n",
      "File: MAC004002.csv has 28873 rows\n",
      "File: MAC004003.csv has 28873 rows\n",
      "File: MAC004004.csv has 28873 rows\n",
      "File: MAC004005.csv has 28873 rows\n",
      "File: MAC004006.csv has 28873 rows\n",
      "File: MAC004007.csv has 28873 rows\n",
      "File: MAC004008.csv has 28873 rows\n",
      "File: MAC004009.csv has 28873 rows\n",
      "File: MAC004010.csv has 28873 rows\n",
      "File: MAC004011.csv has 28873 rows\n",
      "File: MAC004012.csv has 28873 rows\n",
      "File: MAC004013.csv has 28873 rows\n",
      "File: MAC004015.csv has 28873 rows\n",
      "File: MAC004016.csv has 28873 rows\n",
      "File: MAC004017.csv has 28873 rows\n",
      "File: MAC004019.csv has 28873 rows\n",
      "File: MAC004020.csv has 28873 rows\n",
      "File: MAC004021.csv has 28873 rows\n",
      "File: MAC004022.csv has 28873 rows\n",
      "File: MAC004023.csv has 28873 rows\n",
      "File: MAC004024.csv has 28873 rows\n",
      "File: MAC004025.csv has 28873 rows\n",
      "File: MAC004026.csv has 28873 rows\n",
      "File: MAC004027.csv has 28873 rows\n",
      "File: MAC004028.csv has 28873 rows\n",
      "File: MAC004029.csv has 28873 rows\n",
      "File: MAC004030.csv has 28873 rows\n",
      "File: MAC004032.csv has 28873 rows\n",
      "File: MAC004035.csv has 28873 rows\n",
      "File: MAC004036.csv has 28873 rows\n",
      "File: MAC004037.csv has 28873 rows\n",
      "File: MAC004038.csv has 28873 rows\n",
      "File: MAC004039.csv has 28873 rows\n"
     ]
    }
   ],
   "source": [
    "# Now check if the files have the same amount values\n",
    "# Check the number of rows\n",
    "rows = []\n",
    "for file in files:\n",
    "    df = pd.read_csv(path_load + file)\n",
    "    print('File: ' + file + ' has ' + str(df.shape[0]) + ' rows')\n"
   ]
  }
 ],
 "metadata": {
  "kernelspec": {
   "display_name": "goes",
   "language": "python",
   "name": "python3"
  },
  "language_info": {
   "codemirror_mode": {
    "name": "ipython",
    "version": 3
   },
   "file_extension": ".py",
   "mimetype": "text/x-python",
   "name": "python",
   "nbconvert_exporter": "python",
   "pygments_lexer": "ipython3",
   "version": "3.12.5"
  }
 },
 "nbformat": 4,
 "nbformat_minor": 2
}
