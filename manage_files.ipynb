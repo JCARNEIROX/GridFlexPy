{
 "cells": [
  {
   "cell_type": "code",
   "execution_count": 1,
   "metadata": {},
   "outputs": [],
   "source": [
    "import pandas as pd\n",
    "import numpy as np\n",
    "import os"
   ]
  },
  {
   "cell_type": "code",
   "execution_count": 2,
   "metadata": {},
   "outputs": [],
   "source": [
    "# Path of generators_profiles\n",
    "path = os.getcwd() + '/data/generators_profiles/'\n",
    "\n",
    "file = 'pv_generation.csv'\n",
    "\n",
    "# Load the data\n",
    "df = pd.read_csv(path + file)\n",
    "\n",
    "#Create a new dataframe with a random variation between +-30% of the colum Ppower\n",
    "df['Ppower'] = df['Ppower'] * np.random.uniform(0.7, 1.3, len(df))\n",
    "\n",
    "df.to_csv(path + 'pv_generation_prev.csv', index=False)\n",
    "\n",
    "\n"
   ]
  }
 ],
 "metadata": {
  "kernelspec": {
   "display_name": "goes",
   "language": "python",
   "name": "python3"
  },
  "language_info": {
   "codemirror_mode": {
    "name": "ipython",
    "version": 3
   },
   "file_extension": ".py",
   "mimetype": "text/x-python",
   "name": "python",
   "nbconvert_exporter": "python",
   "pygments_lexer": "ipython3",
   "version": "3.12.5"
  }
 },
 "nbformat": 4,
 "nbformat_minor": 2
}
