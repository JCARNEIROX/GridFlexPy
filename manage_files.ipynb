{
 "cells": [
  {
   "cell_type": "code",
   "execution_count": 1,
   "metadata": {},
   "outputs": [],
   "source": [
    "import pandas as pd\n",
    "import os"
   ]
  },
  {
   "cell_type": "code",
   "execution_count": 2,
   "metadata": {},
   "outputs": [],
   "source": [
    "# Path of the loads\n",
    "path = os.getcwd() + '/data/loads/'\n",
    "\n",
    "#List of the files\n",
    "files = os.listdir(path)\n",
    "\n",
    "# Normalize the data in colum 'Ppower' in each file\n",
    "for file in files:\n",
    "    data = pd.read_csv(path + file)\n",
    "    max = data['Ppower'].max()\n",
    "    data['Ppower'] = data['Ppower'] / max\n",
    "    data.to_csv(path + file, index=False)\n",
    "    "
   ]
  }
 ],
 "metadata": {
  "kernelspec": {
   "display_name": "goes",
   "language": "python",
   "name": "python3"
  },
  "language_info": {
   "codemirror_mode": {
    "name": "ipython",
    "version": 3
   },
   "file_extension": ".py",
   "mimetype": "text/x-python",
   "name": "python",
   "nbconvert_exporter": "python",
   "pygments_lexer": "ipython3",
   "version": "3.12.5"
  }
 },
 "nbformat": 4,
 "nbformat_minor": 2
}
