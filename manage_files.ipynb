{
 "cells": [
  {
   "cell_type": "code",
   "execution_count": 1,
   "metadata": {},
   "outputs": [],
   "source": [
    "import pandas as pd\n",
    "import numpy as np\n",
    "import os\n",
    "import opendssdirect as dss\n",
    "\n",
    "from modules.read_spreadsheet import read_file_xlsx\n",
    "from modules.get_general_informations import get_informations\n",
    "# Input and output paths    \n",
    "path_xlsx = os.getcwd() + '/data/spreadsheets/'\n",
    "path_dss = os.getcwd() + '/data/dss_files/'\t\n",
    "output_csv = os.getcwd() + '/data/output/csv/'\n",
    "output_img = os.getcwd() + '/data/output/img/'\n",
    "path_generators = os.getcwd() + '/data/generators_profiles/'\n",
    "path_load = os.getcwd() + '/data/loads/'"
   ]
  },
  {
   "cell_type": "code",
   "execution_count": 2,
   "metadata": {},
   "outputs": [
    {
     "name": "stdout",
     "output_type": "stream",
     "text": [
      "Start date:  2012-07-07 06:00:00\n",
      "End date:  2013-07-07 06:00:00\n",
      "Timestep:  30\n"
     ]
    }
   ],
   "source": [
    "file_xlsx = 'teste_sheet.xlsx'\n",
    "\n",
    "file_contents = read_file_xlsx(path_xlsx + file_xlsx)\n",
    "\n",
    "general_informations = get_informations(file_contents['General'])\n",
    "start_date = general_informations.start_date\n",
    "end_date = general_informations.end_date\n",
    "timestep = general_informations.timestep\n",
    "print('Start date: ', start_date)\n",
    "print('End date: ', end_date)\n",
    "print('Timestep: ', timestep)"
   ]
  }
 ],
 "metadata": {
  "kernelspec": {
   "display_name": "goes",
   "language": "python",
   "name": "python3"
  },
  "language_info": {
   "codemirror_mode": {
    "name": "ipython",
    "version": 3
   },
   "file_extension": ".py",
   "mimetype": "text/x-python",
   "name": "python",
   "nbconvert_exporter": "python",
   "pygments_lexer": "ipython3",
   "version": "3.12.5"
  }
 },
 "nbformat": 4,
 "nbformat_minor": 2
}
